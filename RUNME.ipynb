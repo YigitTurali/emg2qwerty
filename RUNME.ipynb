{
  "cells": [
    {
      "cell_type": "markdown",
      "metadata": {},
      "source": [
        "# C247 Project (EMG2QWERTY)\n",
        "\n",
        "## Mehmet Yigit Turali, Kartik Sharma"
      ]
    },
    {
      "cell_type": "markdown",
      "metadata": {},
      "source": [
        "## Imports "
      ]
    },
    {
      "cell_type": "code",
      "execution_count": null,
      "metadata": {},
      "outputs": [],
      "source": [
        "import sys\n",
        "# sys project root\n",
        "sys.path.append('/home/yigit/codebase/emg2qwerty') # TODO: change this to your project root"
      ]
    },
    {
      "cell_type": "markdown",
      "metadata": {
        "id": "IVuSn4rXhLJa"
      },
      "source": [
        "## Train & Evaluate TDS ConvNet (Baseline)"
      ]
    },
    {
      "cell_type": "markdown",
      "metadata": {},
      "source": [
        "### Training Step"
      ]
    },
    {
      "cell_type": "code",
      "execution_count": null,
      "metadata": {},
      "outputs": [],
      "source": [
        "# Single-user training\n",
        "!HYDRA_FULL_ERROR=1 python -m emg2qwerty.train \\\n",
        "  user=\"glob(single_user)\" \\\n",
        "  trainer.accelerator=gpu trainer.devices=4 \\\n",
        "  --multirun"
      ]
    },
    {
      "cell_type": "markdown",
      "metadata": {},
      "source": [
        "### Evaluation Step"
      ]
    },
    {
      "cell_type": "code",
      "execution_count": null,
      "metadata": {},
      "outputs": [],
      "source": [
        "# Single-user testing\n",
        "!python -m emg2qwerty.train \\\n",
        "  user=\"single_user\" \\\n",
        "  checkpoint=\"logs/2025-03-08/BASELINE/Baseline/checkpoints/best_checkpoint_baseline.ckpt\" \\\n",
        "  train=False trainer.accelerator=gpu \\\n",
        "  decoder=ctc_greedy \\\n",
        "  hydra.launcher.mem_gb=64 \\\n",
        "  # --multirun"
      ]
    },
    {
      "cell_type": "code",
      "execution_count": 1,
      "metadata": {},
      "outputs": [],
      "source": [
        "# get plots from tensorboard and show them in the notebook\n",
        "%load_ext tensorboard"
      ]
    },
    {
      "cell_type": "code",
      "execution_count": null,
      "metadata": {},
      "outputs": [],
      "source": [
        "%tensorboard --logdir logs/2025-03-08/BASELINE/"
      ]
    },
    {
      "cell_type": "markdown",
      "metadata": {},
      "source": [
        "## Train & Evaluate CNN + LSTM Module\n",
        "\n",
        "TODO: Modify module in ```tds_conv_ctc.yaml``` with\n",
        "```\n",
        "module:\n",
        "  # CNN + LSTM Module\n",
        "  _target_: emg2qwerty.lightning.CNNLSTMModule\n",
        "  in_features: 528  # freq * channels = (n_fft // 2 + 1) * 16\n",
        "  cnn_channels: [32, 64, 128, 256]\n",
        "  lstm_hidden_size: 512\n",
        "  lstm_num_layers: 2\n",
        "  dropout: 0.2\n",
        "  \n",
        "```"
      ]
    },
    {
      "cell_type": "markdown",
      "metadata": {},
      "source": [
        "### Training Step"
      ]
    },
    {
      "cell_type": "code",
      "execution_count": null,
      "metadata": {
        "id": "n84M6KLmkp2i"
      },
      "outputs": [],
      "source": [
        "# Single-user training\n",
        "!HYDRA_FULL_ERROR=1 python -m emg2qwerty.train \\\n",
        "  user=\"glob(single_user)\" \\\n",
        "  trainer.accelerator=gpu trainer.devices=4 \\\n",
        "  --multirun"
      ]
    },
    {
      "cell_type": "markdown",
      "metadata": {},
      "source": [
        "### Evaluation Step"
      ]
    },
    {
      "cell_type": "code",
      "execution_count": null,
      "metadata": {},
      "outputs": [],
      "source": [
        "# Single-user testing\n",
        "!python -m emg2qwerty.train \\\n",
        "  user=\"single_user\" \\\n",
        "  checkpoint=\"logs/2025-03-08/CNNLSTM/cnnlstm/checkpoints/best_checkpoint_cnn_lstm.ckpt\" \\\n",
        "  train=False trainer.accelerator=gpu \\\n",
        "  decoder=ctc_greedy \\\n",
        "  hydra.launcher.mem_gb=64 \\\n",
        "  # --multirun"
      ]
    },
    {
      "cell_type": "code",
      "execution_count": null,
      "metadata": {},
      "outputs": [],
      "source": [
        "# get plots from tensorboard and show them in the notebook\n",
        "%load_ext tensorboard"
      ]
    },
    {
      "cell_type": "code",
      "execution_count": null,
      "metadata": {},
      "outputs": [],
      "source": [
        "%tensorboard --logdir logs/2025-03-08/CNNLSTM/"
      ]
    },
    {
      "cell_type": "markdown",
      "metadata": {},
      "source": [
        "### Train & Evaluate CNN + GRU Module\n",
        "\n",
        "TODO: Modify module in ```tds_conv_ctc.yaml``` with\n",
        "```\n",
        "module:\n",
        "# CNN + GRU Module\n",
        "    _target_: emg2qwerty.lightning.CNNGRUModule\n",
        "    in_features: 528  # freq * channels = (n_fft // 2 + 1) * 16\n",
        "    cnn_channels: [32, 64, 128, 256]\n",
        "    gru_hidden_size: 512\n",
        "    gru_num_layers: 2\n",
        "    dropout: 0.2\n",
        "    adaptive_pool_size: 1\n",
        "  \n",
        "```"
      ]
    },
    {
      "cell_type": "markdown",
      "metadata": {},
      "source": [
        "### Training Step"
      ]
    },
    {
      "cell_type": "code",
      "execution_count": null,
      "metadata": {},
      "outputs": [],
      "source": [
        "# Single-user training\n",
        "!HYDRA_FULL_ERROR=1 python -m emg2qwerty.train \\\n",
        "  user=\"glob(single_user)\" \\\n",
        "  trainer.accelerator=gpu trainer.devices=4 \\\n",
        "  --multirun "
      ]
    },
    {
      "cell_type": "markdown",
      "metadata": {},
      "source": [
        "### Evaluation Step"
      ]
    },
    {
      "cell_type": "code",
      "execution_count": null,
      "metadata": {},
      "outputs": [],
      "source": [
        "# Single-user testing\n",
        "!python -m emg2qwerty.train \\\n",
        "  user=\"single_user\" \\\n",
        "  checkpoint=\"logs/2025-03-11/CNN_GRU/cnn_gru/checkpoints/best_checkpoint_rnn_gru.ckpt\" \\\n",
        "  train=False trainer.accelerator=gpu \\\n",
        "  decoder=ctc_greedy \\\n",
        "  hydra.launcher.mem_gb=64 \\\n",
        "  # --multirun"
      ]
    },
    {
      "cell_type": "code",
      "execution_count": null,
      "metadata": {},
      "outputs": [],
      "source": [
        "# get plots from tensorboard and show them in the notebook\n",
        "%load_ext tensorboard"
      ]
    },
    {
      "cell_type": "code",
      "execution_count": null,
      "metadata": {},
      "outputs": [],
      "source": [
        "%tensorboard --logdir logs/2025-03-08/CNN_GRU/"
      ]
    },
    {
      "cell_type": "markdown",
      "metadata": {},
      "source": [
        "### Train & Evaluate CNN + Transformer Module\n",
        "\n",
        "TODO: Modify module in ```tds_conv_ctc.yaml``` with\n",
        "```\n",
        "module:\n",
        "  # CNN + Transformer Module\n",
        "  _target_: emg2qwerty.lightning.CNNTransformerModule\n",
        "  in_features: 528  # freq * channels = (n_fft // 2 + 1) * 16\n",
        "  cnn_channels: [32, 64, 128, 256]\n",
        "  kernel_size: 3\n",
        "  transformer_dim: 256\n",
        "  nhead: 8\n",
        "  num_encoder_layers: 6\n",
        "  dim_feedforward: 1024\n",
        "  dropout: 0.2\n",
        "  max_seq_length: 10000\n",
        "  chunk_size: 1024\n",
        "  chunk_overlap: 256\n",
        "  \n",
        "```"
      ]
    },
    {
      "cell_type": "markdown",
      "metadata": {},
      "source": [
        "### Training Step"
      ]
    },
    {
      "cell_type": "code",
      "execution_count": null,
      "metadata": {},
      "outputs": [],
      "source": [
        "!HYDRA_FULL_ERROR=1 \\\n",
        "  python -m emg2qwerty.train \\\n",
        "  user=\"glob(single_user)\" \\\n",
        "  trainer.accelerator=gpu trainer.devices=4 \\\n",
        "  lr_scheduler=cosine_annealing_warm_restarts \\\n",
        "  lr_scheduler.scheduler.T_0=10 \\\n",
        "  lr_scheduler.scheduler.T_mult=2 \\\n",
        "  lr_scheduler.scheduler.eta_min=1e-6 \\\n",
        "  trainer.max_epochs=400 \\\n",
        "  --multirun "
      ]
    },
    {
      "cell_type": "markdown",
      "metadata": {},
      "source": [
        "### Evaluation Step"
      ]
    },
    {
      "cell_type": "code",
      "execution_count": null,
      "metadata": {},
      "outputs": [],
      "source": [
        "# Single-user testing\n",
        "!python -m emg2qwerty.train \\\n",
        "  user=\"single_user\" \\\n",
        "  checkpoint=\"/logs/2025-03-12/CNNTRANSFORMER/checkpoints/cnn_transformer.ckpt\" \\\n",
        "  train=False trainer.accelerator=gpu \\\n",
        "  decoder=ctc_greedy \\\n",
        "  hydra.launcher.mem_gb=64 \\\n",
        "  # --multirun"
      ]
    },
    {
      "cell_type": "code",
      "execution_count": null,
      "metadata": {},
      "outputs": [],
      "source": [
        "# get plots from tensorboard and show them in the notebook\n",
        "%load_ext tensorboard"
      ]
    },
    {
      "cell_type": "code",
      "execution_count": null,
      "metadata": {},
      "outputs": [],
      "source": [
        "%tensorboard --logdir logs/2025-03-08/CNNTRANSFORMER/"
      ]
    },
    {
      "cell_type": "markdown",
      "metadata": {},
      "source": [
        "### Train & Evaluate CNN + LSTM Alternator Module\n",
        "\n",
        "TODO: Modify module in ```tds_conv_ctc.yaml``` with\n",
        "```\n",
        "module:\n",
        "  # CNN + LSTM Alternator Module\n",
        "  _target_: emg2qwerty.lightning.CNNLSTMAlternatorModule\n",
        "  in_features: 528  # freq * channels = (n_fft // 2 + 1) * 16\n",
        "  cnn_channels: [32, 64, 128, 256]\n",
        "  lstm_hidden_size: 512\n",
        "  lstm_num_layers: 2\n",
        "  dropout: 0.2\n",
        "  \n",
        "```"
      ]
    },
    {
      "cell_type": "markdown",
      "metadata": {},
      "source": [
        "### Training Step"
      ]
    },
    {
      "cell_type": "code",
      "execution_count": null,
      "metadata": {},
      "outputs": [],
      "source": [
        "# Single-user training\n",
        "!HYDRA_FULL_ERROR=1 python -m emg2qwerty.train \\\n",
        "  user=\"glob(single_user)\" \\\n",
        "  trainer.accelerator=gpu trainer.devices=4 \\\n",
        "  --multirun "
      ]
    },
    {
      "cell_type": "markdown",
      "metadata": {},
      "source": [
        "### Evaluation Step"
      ]
    },
    {
      "cell_type": "code",
      "execution_count": null,
      "metadata": {},
      "outputs": [],
      "source": [
        "# Single-user testing\n",
        "!python -m emg2qwerty.train \\\n",
        "  user=\"single_user\" \\\n",
        "  checkpoint=\"logs/2025-03-11/CNN_LSTM_ALTERNATOR/cnn_lstm_alternator/checkpoints/cnn_lstm_alternator_best_checkpoint.ckpt\" \\\n",
        "  train=False trainer.accelerator=gpu \\\n",
        "  decoder=ctc_greedy \\\n",
        "  hydra.launcher.mem_gb=64 \\\n",
        "  # --multirun"
      ]
    },
    {
      "cell_type": "code",
      "execution_count": null,
      "metadata": {},
      "outputs": [],
      "source": [
        "# get plots from tensorboard and show them in the notebook\n",
        "%load_ext tensorboard"
      ]
    },
    {
      "cell_type": "code",
      "execution_count": null,
      "metadata": {},
      "outputs": [],
      "source": [
        "%tensorboard --logdir logs/2025-03-08/CNN_LSTM_ALTERNATOR/"
      ]
    },
    {
      "cell_type": "markdown",
      "metadata": {},
      "source": [
        "### Train & Evaluate Vanilla RNN Module\n",
        "\n",
        "TODO: Modify module in ```tds_conv_ctc.yaml``` with\n",
        "```\n",
        "module:\n",
        "  # Pure RNN Module\n",
        "  _target_: emg2qwerty.lightning.RNNModule\n",
        "  in_features: 33  # freq * channels = (n_fft // 2 + 1) * 16\n",
        "  rnn_hidden_size: 1024\n",
        "  rnn_num_layers: 5\n",
        "  dropout: 0.2\n",
        "```"
      ]
    },
    {
      "cell_type": "markdown",
      "metadata": {},
      "source": [
        "### Training Step"
      ]
    },
    {
      "cell_type": "code",
      "execution_count": null,
      "metadata": {},
      "outputs": [],
      "source": [
        "# Single-user training\n",
        "!HYDRA_FULL_ERROR=1 python -m emg2qwerty.train \\\n",
        "  user=\"glob(single_user)\" \\\n",
        "  trainer.accelerator=gpu trainer.devices=4 \\\n",
        "  --multirun "
      ]
    },
    {
      "cell_type": "markdown",
      "metadata": {},
      "source": [
        "### Evaluation Step"
      ]
    },
    {
      "cell_type": "code",
      "execution_count": null,
      "metadata": {},
      "outputs": [],
      "source": [
        "# Single-user testing\n",
        "!python -m emg2qwerty.train \\\n",
        "  user=\"single_user\" \\\n",
        "  checkpoint=\"logs/2025-03-12/RNN/checkpoints/best_rnn.ckpt\" \\\n",
        "  train=False trainer.accelerator=gpu \\\n",
        "  decoder=ctc_greedy \\\n",
        "  hydra.launcher.mem_gb=64 \\\n",
        "  # --multirun"
      ]
    },
    {
      "cell_type": "code",
      "execution_count": null,
      "metadata": {},
      "outputs": [],
      "source": [
        "# get plots from tensorboard and show them in the notebook\n",
        "%load_ext tensorboard"
      ]
    },
    {
      "cell_type": "code",
      "execution_count": null,
      "metadata": {},
      "outputs": [],
      "source": [
        "%tensorboard --logdir logs/2025-03-08/RNN/"
      ]
    }
  ],
  "metadata": {
    "accelerator": "GPU",
    "colab": {
      "gpuType": "T4",
      "provenance": []
    },
    "kernelspec": {
      "display_name": "emg2qwerty",
      "language": "python",
      "name": "python3"
    },
    "language_info": {
      "codemirror_mode": {
        "name": "ipython",
        "version": 3
      },
      "file_extension": ".py",
      "mimetype": "text/x-python",
      "name": "python",
      "nbconvert_exporter": "python",
      "pygments_lexer": "ipython3",
      "version": "3.10.13"
    }
  },
  "nbformat": 4,
  "nbformat_minor": 0
}
